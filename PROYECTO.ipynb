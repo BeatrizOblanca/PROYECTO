{
  "nbformat": 4,
  "nbformat_minor": 0,
  "metadata": {
    "colab": {
      "provenance": [],
      "collapsed_sections": [
        "v3o5IL2AxWze",
        "NWU49CwHtayI",
        "Ccdw4TIOxSew",
        "UH6SbqNJ31Yt",
        "mj7oRmxkF9F9",
        "WhU2rZAfMK07",
        "RLyYsMZLXpHo",
        "nA8f2-7gXriF",
        "rRsiOXtQczQf",
        "RPUqZyUUHGkB",
        "KX0NHeBgoXc4",
        "DI8lvtvxrogj"
      ]
    },
    "kernelspec": {
      "name": "python3",
      "display_name": "Python 3"
    },
    "language_info": {
      "name": "python"
    }
  },
  "cells": [
    {
      "cell_type": "markdown",
      "source": [
        "# PROYECTO\n",
        "\n",
        "##Beatriz González Oblanca\n",
        "### Sistemas de Información en Entornos Biomédicos (Ingeniería Biomédica)"
      ],
      "metadata": {
        "id": "DoFDpbK669JN"
      }
    },
    {
      "cell_type": "markdown",
      "source": [
        "#CARGAMOS LOS DATOS Y LOS UNIMOS EN UN ÚNICO DOCUMENTO"
      ],
      "metadata": {
        "id": "v3o5IL2AxWze"
      }
    },
    {
      "cell_type": "code",
      "execution_count": null,
      "metadata": {
        "colab": {
          "base_uri": "https://localhost:8080/"
        },
        "id": "IERnI8Vo66nP",
        "outputId": "2bd654d7-19a8-40e4-e12f-234bf7b571f8"
      },
      "outputs": [
        {
          "output_type": "stream",
          "name": "stdout",
          "text": [
            "Drive already mounted at /content/drive; to attempt to forcibly remount, call drive.mount(\"/content/drive\", force_remount=True).\n"
          ]
        }
      ],
      "source": [
        "import numpy as np\n",
        "import pandas as pd\n",
        "import matplotlib.pyplot as plt\n",
        "import seaborn as sns\n",
        "from sklearn.cluster import KMeans\n",
        "from sklearn.decomposition import PCA\n",
        "from google.colab import drive\n",
        "from sklearn.model_selection import train_test_split\n",
        "from sklearn.preprocessing import StandardScaler\n",
        "from sklearn.neighbors import KNeighborsClassifier\n",
        "from sklearn.metrics import accuracy_score\n",
        "from sklearn.metrics import confusion_matrix\n",
        "from sklearn.linear_model import LogisticRegression\n",
        "from sklearn.metrics import classification_report\n",
        "from sklearn.tree import DecisionTreeClassifier\n",
        "from sklearn.ensemble import RandomForestClassifier\n",
        "from sklearn.svm import SVC\n",
        "from sklearn.preprocessing import scale\n",
        "drive.mount('/content/drive')\n",
        "documento1 = pd.read_csv('/content/drive/MyDrive/Colab Notebooks/trabajo_SIEB_1.csv')\n",
        "documento2 = pd.read_csv('/content/drive/MyDrive/Colab Notebooks/trabajo_SIEB_2.csv')"
      ]
    },
    {
      "cell_type": "code",
      "source": [
        "#Unimos los dos documentos en uno solo para poder trabajar con todo el conjunto de datos\n",
        "#Ambos archivos tienen las mismas columnas\n",
        "\n",
        "#DOCUMENTO\n",
        "documento = pd.concat([documento1, documento2], axis=0, ignore_index=True)\n",
        "#reindexo los índices de la tabla para que no me de problemas posteriormente"
      ],
      "metadata": {
        "id": "c5X0ekXvDkyV"
      },
      "execution_count": null,
      "outputs": []
    },
    {
      "cell_type": "markdown",
      "source": [
        "#COMPROBACIÓN DE ERRORES"
      ],
      "metadata": {
        "id": "NWU49CwHtayI"
      }
    },
    {
      "cell_type": "code",
      "source": [
        "#Verificamos que la columna 0 no tiene valores repetidos\n",
        "valores_duplicados = documento['col_0'].duplicated()\n",
        "if valores_duplicados.any():\n",
        "    print('Hay valores duplicados en la columna')\n",
        "else:\n",
        "    print('No hay valores duplicados en la columna')"
      ],
      "metadata": {
        "colab": {
          "base_uri": "https://localhost:8080/"
        },
        "id": "t3LtMx7UyWtV",
        "outputId": "361be0e4-5a7a-4064-c195-7975df473cea"
      },
      "execution_count": null,
      "outputs": [
        {
          "output_type": "stream",
          "name": "stdout",
          "text": [
            "No hay valores duplicados en la columna\n"
          ]
        }
      ]
    },
    {
      "cell_type": "code",
      "source": [
        "#VEMOS LOS DATOS QUE TENEMOS EN LA COLUMNA 6\n",
        "documento.col_6.unique()"
      ],
      "metadata": {
        "colab": {
          "base_uri": "https://localhost:8080/"
        },
        "id": "UEYCA-7utZpD",
        "outputId": "ae8c38be-3121-4625-bab8-bebe0ac3e55b"
      },
      "execution_count": null,
      "outputs": [
        {
          "output_type": "execute_result",
          "data": {
            "text/plain": [
              "array(['Alto', 'Medium', 'Bajo', 'Low', 'Medio', 'High'], dtype=object)"
            ]
          },
          "metadata": {},
          "execution_count": 4
        }
      ]
    },
    {
      "cell_type": "code",
      "source": [
        "#Observamos que se utilizan palabras en inglés y en castellano para expresar lo mismo, por lo que unificamos todo en castellano\n",
        "documento ['col_6']= documento ['col_6'].replace('High', 'Alto')\n",
        "documento ['col_6']= documento ['col_6'].replace('Medium', 'Medio')\n",
        "documento ['col_6']= documento ['col_6'].replace('Low', 'Bajo')\n",
        "documento.col_6.unique()"
      ],
      "metadata": {
        "colab": {
          "base_uri": "https://localhost:8080/"
        },
        "id": "A1HU1xXfuDsd",
        "outputId": "8cbb9285-dcf8-4ae5-cf66-597219a7a582"
      },
      "execution_count": null,
      "outputs": [
        {
          "output_type": "execute_result",
          "data": {
            "text/plain": [
              "array(['Alto', 'Medio', 'Bajo'], dtype=object)"
            ]
          },
          "metadata": {},
          "execution_count": 5
        }
      ]
    },
    {
      "cell_type": "code",
      "source": [
        "documento.col_7.unique()\n",
        "#la columna 7 está correcta"
      ],
      "metadata": {
        "colab": {
          "base_uri": "https://localhost:8080/"
        },
        "id": "447_xq_RuCF5",
        "outputId": "6ef561d3-8cb4-4f37-eab7-201b475071ae"
      },
      "execution_count": null,
      "outputs": [
        {
          "output_type": "execute_result",
          "data": {
            "text/plain": [
              "array(['Sí', 'No'], dtype=object)"
            ]
          },
          "metadata": {},
          "execution_count": 6
        }
      ]
    },
    {
      "cell_type": "code",
      "source": [
        "#Compobamos el tipo de datos que hay en las columna\n",
        "print('Tipo de datos de la columna 1:',documento['col_1'].dtypes)\n",
        "print('Tipo de datos de la columna 2:',documento['col_2'].dtypes)\n",
        "print('Tipo de datos de la columna 3:',documento['col_3'].dtypes)\n",
        "print('Tipo de datos de la columna 4:',documento['col_4'].dtypes)\n",
        "print('Tipo de datos de la columna 5:',documento['col_5'].dtypes)"
      ],
      "metadata": {
        "id": "L6dEft4avTDv",
        "colab": {
          "base_uri": "https://localhost:8080/"
        },
        "outputId": "9c197cea-285a-434d-c2da-f0185637b620"
      },
      "execution_count": null,
      "outputs": [
        {
          "output_type": "stream",
          "name": "stdout",
          "text": [
            "Tipo de datos de la columna 1: float64\n",
            "Tipo de datos de la columna 2: float64\n",
            "Tipo de datos de la columna 3: float64\n",
            "Tipo de datos de la columna 4: float64\n",
            "Tipo de datos de la columna 5: float64\n"
          ]
        }
      ]
    },
    {
      "cell_type": "markdown",
      "source": [
        "##COMPROBACIÓN Y MODIFICACIÓN DE LOS DATOS NUMÉRICOS"
      ],
      "metadata": {
        "id": "Ccdw4TIOxSew"
      }
    },
    {
      "cell_type": "code",
      "source": [
        "#COLUMNA 1\n",
        "\n",
        "#COMPROBAMOS QUE TODOS LOS DATOS SON NUMÉRICOS\n",
        "if documento['col_1'].dtype == 'float64':\n",
        "    print('Todos los datos de la columna son de tipo float64')\n",
        "else:\n",
        "    print('Hay datos de otros tipos en la columna')\n",
        "\n",
        "#COMPROBAMOS SI HAY VALORES NULOS\n",
        "valores_nulos = documento['col_1'].isna()\n",
        "if valores_nulos.any():\n",
        "    print('Hay valores nulos en la columna')\n",
        "else:\n",
        "    print('No hay valores nulos en la columna')"
      ],
      "metadata": {
        "colab": {
          "base_uri": "https://localhost:8080/"
        },
        "id": "fPkUKLsexCMc",
        "outputId": "f18db7c2-7dc6-429d-82db-1cfd4aed2913"
      },
      "execution_count": null,
      "outputs": [
        {
          "output_type": "stream",
          "name": "stdout",
          "text": [
            "Todos los datos de la columna son de tipo float64\n",
            "Hay valores nulos en la columna\n"
          ]
        }
      ]
    },
    {
      "cell_type": "code",
      "source": [
        "#COLUMNA 2\n",
        "\n",
        "#COMPROBAMOS QUE TODOS LOS DATOS SON NUMÉRICOS\n",
        "if documento['col_2'].dtype == 'float64':\n",
        "    print('Todos los datos de la columna son de tipo float64')\n",
        "else:\n",
        "    print('Hay datos de otros tipos en la columna')\n",
        "\n",
        "#COMPROBAMOS SI HAY VALORES NULOS\n",
        "valores_nulos2 = documento['col_2'].isna()\n",
        "if valores_nulos2.any():\n",
        "    print('Hay valores nulos en la columna')\n",
        "else:\n",
        "    print('No hay valores nulos en la columna')"
      ],
      "metadata": {
        "colab": {
          "base_uri": "https://localhost:8080/"
        },
        "id": "U54ubUSsxP2e",
        "outputId": "9900e84e-545f-47d7-a9d9-0507335914e2"
      },
      "execution_count": null,
      "outputs": [
        {
          "output_type": "stream",
          "name": "stdout",
          "text": [
            "Todos los datos de la columna son de tipo float64\n",
            "Hay valores nulos en la columna\n"
          ]
        }
      ]
    },
    {
      "cell_type": "code",
      "source": [
        "#COLUMNA 3\n",
        "\n",
        "#COMPROBAMOS QUE TODOS LOS DATOS SON NUMÉRICOS\n",
        "if documento['col_3'].dtype == 'float64':\n",
        "    print('Todos los datos de la columna son de tipo float64')\n",
        "else:\n",
        "    print('Hay datos de otros tipos en la columna')\n",
        "\n",
        "\n",
        "#COMPROBAMOS SI HAY VALORES NULOS\n",
        "valores_nulos3 = documento['col_3'].isna()\n",
        "if valores_nulos3.any():\n",
        "    print('Hay valores nulos en la columna')\n",
        "else:\n",
        "    print('No hay valores nulos en la columna')"
      ],
      "metadata": {
        "colab": {
          "base_uri": "https://localhost:8080/"
        },
        "id": "Goh7QMxTx7cw",
        "outputId": "b584dffe-07ed-43e8-ec0f-0474a6c84e71"
      },
      "execution_count": null,
      "outputs": [
        {
          "output_type": "stream",
          "name": "stdout",
          "text": [
            "Todos los datos de la columna son de tipo float64\n",
            "Hay valores nulos en la columna\n"
          ]
        }
      ]
    },
    {
      "cell_type": "code",
      "source": [
        "#COLUMNA 4\n",
        "\n",
        "#COMPROBAMOS QUE TODOS LOS DATOS SON NUMÉRICOS\n",
        "if documento['col_4'].dtype == 'float64':\n",
        "    print('Todos los datos de la columna son de tipo float64')\n",
        "else:\n",
        "    print('Hay datos de otros tipos en la columna')\n",
        "\n",
        "#COMPROBAMOS SI HAY VALORES NULOS\n",
        "valores_nulos4 = documento['col_4'].isna()\n",
        "if valores_nulos4.any():\n",
        "    print('Hay valores nulos en la columna')\n",
        "else:\n",
        "    print('No hay valores nulos en la columna')"
      ],
      "metadata": {
        "colab": {
          "base_uri": "https://localhost:8080/"
        },
        "id": "aye5Kmknx_gc",
        "outputId": "e0720ede-156b-44f4-d221-b6af3dc8bc8b"
      },
      "execution_count": null,
      "outputs": [
        {
          "output_type": "stream",
          "name": "stdout",
          "text": [
            "Todos los datos de la columna son de tipo float64\n",
            "Hay valores nulos en la columna\n"
          ]
        }
      ]
    },
    {
      "cell_type": "code",
      "source": [
        "#COLUMNA 5\n",
        "\n",
        "#COMPROBAMOS QUE TODOS LOS DATOS SON NUMÉRICOS\n",
        "if documento['col_5'].dtype == 'float64':\n",
        "    print('Todos los datos de la columna son de tipo float64')\n",
        "else:\n",
        "    print('Hay datos de otros tipos en la columna')\n",
        "\n",
        "#COMPROBAMOS SI HAY VALORES NULOS\n",
        "valores_nulos5 = documento['col_5'].isna()\n",
        "if valores_nulos5.any():\n",
        "    print('Hay valores nulos en la columna')\n",
        "else:\n",
        "    print('No hay valores nulos en la columna')"
      ],
      "metadata": {
        "colab": {
          "base_uri": "https://localhost:8080/"
        },
        "id": "4wGP2GmWyBvM",
        "outputId": "d951aea8-d2c8-43d2-acdf-3959e3f0c8d3"
      },
      "execution_count": null,
      "outputs": [
        {
          "output_type": "stream",
          "name": "stdout",
          "text": [
            "Todos los datos de la columna son de tipo float64\n",
            "No hay valores nulos en la columna\n"
          ]
        }
      ]
    },
    {
      "cell_type": "markdown",
      "source": [
        "Por lo tanto, todos los datos introducidos en las columnas (1-5) son de tipo numéricos, sin embargo en las columnas 1,2,3,4 existen valores nulos."
      ],
      "metadata": {
        "id": "vxkVNd8Dzrfy"
      }
    },
    {
      "cell_type": "code",
      "source": [
        "#Eliminamos los datos nulos del documento\n",
        "documento = documento.dropna()\n",
        "\n",
        "#En realidad podria haber hecho directamente, al saber que existian valores nulos en el documento\n",
        "#pero mi idea inicial era ir eliminándolos columna por columna pero me daba error\n",
        "#finalmente encontré esta solución"
      ],
      "metadata": {
        "id": "Ov7_5tOX1eV8"
      },
      "execution_count": null,
      "outputs": []
    },
    {
      "cell_type": "code",
      "source": [
        "#Comprobamos que ahora no aparecen\n",
        "\n",
        "if documento.isnull().any().any():\n",
        "   print('Hay valores nulos en el documento')\n",
        "else:\n",
        "   print('No hay valores nulos en el documento')"
      ],
      "metadata": {
        "colab": {
          "base_uri": "https://localhost:8080/"
        },
        "id": "uG9bfuehm7j1",
        "outputId": "b6c30927-b9f8-475f-ac17-e1974e3bec8d"
      },
      "execution_count": null,
      "outputs": [
        {
          "output_type": "stream",
          "name": "stdout",
          "text": [
            "No hay valores nulos en el documento\n"
          ]
        }
      ]
    },
    {
      "cell_type": "markdown",
      "source": [
        "#ANÁLISIS EXPLORATORIO"
      ],
      "metadata": {
        "id": "UH6SbqNJ31Yt"
      }
    },
    {
      "cell_type": "code",
      "source": [
        "print(documento.columns)"
      ],
      "metadata": {
        "colab": {
          "base_uri": "https://localhost:8080/"
        },
        "id": "QsjZ4n7HKa0U",
        "outputId": "b7d07447-7408-4888-c545-a4071c4a6a8c"
      },
      "execution_count": null,
      "outputs": [
        {
          "output_type": "stream",
          "name": "stdout",
          "text": [
            "Index(['col_0', 'col_1', 'col_2', 'col_3', 'col_4', 'col_5', 'col_6', 'col_7'], dtype='object')\n"
          ]
        }
      ]
    },
    {
      "cell_type": "markdown",
      "source": [
        "##MAPA DE CALOR"
      ],
      "metadata": {
        "id": "mj7oRmxkF9F9"
      }
    },
    {
      "cell_type": "code",
      "source": [
        "corr_matrix = documento.corr()\n",
        "sns.heatmap(corr_matrix, annot=True, cmap='coolwarm')\n",
        "plt.show()"
      ],
      "metadata": {
        "colab": {
          "base_uri": "https://localhost:8080/"
        },
        "id": "NA3qZJsdI4x9",
        "outputId": "4a2c57f6-0b8e-41e3-b250-f9e6fc9b7881"
      },
      "execution_count": null,
      "outputs": [
        {
          "output_type": "stream",
          "name": "stderr",
          "text": [
            "<ipython-input-16-9698d6890b23>:1: FutureWarning: The default value of numeric_only in DataFrame.corr is deprecated. In a future version, it will default to False. Select only valid columns or specify the value of numeric_only to silence this warning.\n",
            "  corr_matrix = documento.corr()\n"
          ]
        },
        {
          "output_type": "display_data",
          "data": {
            "text/plain": [
              "<Figure size 640x480 with 2 Axes>"
            ],
            "image/png": "[encoded data removed]"
          },
          "metadata": {}
        }
      ]
    },
    {
      "cell_type": "markdown",
      "source": [
        "Observamos un fuerte correlación entre la columna 3 y 4 y una correlación inversa de ambas con la columna 5."
      ],
      "metadata": {
        "id": "5dMpuAapLibf"
      }
    },
    {
      "cell_type": "markdown",
      "source": [
        "#REDUCCIÓN DE DIMENSIONALIDAD"
      ],
      "metadata": {
        "id": "WhU2rZAfMK07"
      }
    },
    {
      "cell_type": "code",
      "source": [
        "col_3 = documento['col_3']\n",
        "col_4 = documento['col_4']\n",
        "col_5 = documento['col_5']\n",
        "columnas = np.column_stack((col_3, col_4, col_5))\n",
        "pca = PCA(n_components=2) #reducimos a 2 dimensiones\n",
        "pca.fit(columnas)\n",
        "componentes_principales = pca.components_\n",
        "varianza_explicada = pca.explained_variance_ratio_\n",
        "\n",
        "# Imprime los componentes principales y la varianza explicada\n",
        "print(\"Componentes principales:\")\n",
        "print(componentes_principales)\n",
        "print(\"Varianza explicada:\")\n",
        "print(varianza_explicada)"
      ],
      "metadata": {
        "colab": {
          "base_uri": "https://localhost:8080/"
        },
        "id": "KIqfycsD7Tpl",
        "outputId": "c58f19b8-309c-47ae-9ff3-584dd94107f2"
      },
      "execution_count": null,
      "outputs": [
        {
          "output_type": "stream",
          "name": "stdout",
          "text": [
            "Componentes principales:\n",
            "[[ 0.71784383  0.51242426 -0.4712978 ]\n",
            " [ 0.6276708  -0.18345672  0.75655337]]\n",
            "Varianza explicada:\n",
            "[0.90717203 0.05973829]\n"
          ]
        }
      ]
    },
    {
      "cell_type": "markdown",
      "source": [
        "Observamos que la primera dirección explica el 90,71% de los datos, mientras que la segunda solo un 5,97%. Por este motivo reduciremos a una sola dimensión."
      ],
      "metadata": {
        "id": "mTem_bYQBxxo"
      }
    },
    {
      "cell_type": "code",
      "source": [
        "#reducimos a 1 dimensión\n",
        "pca = PCA(n_components=1)\n",
        "pca.fit(columnas)\n",
        "datos_transformados = pca.transform(columnas)\n",
        "\n",
        "#Comprobamos que las dimensiones son las mismas para posteriormente concatenar los datos\n",
        "print('Las dimensiones de los datos transformados son:', datos_transformados.shape)\n",
        "print('Las dimensiones de la columna 0 son:', documento.col_0.shape)\n",
        "print('Las dimensiones de la columna 1 son:', documento.col_1.shape)\n",
        "print('Las dimensiones de la columna 2 son:', documento.col_2.shape)\n",
        "print('Las dimensiones de la columna 6 son:', documento.col_6.shape)\n",
        "print('Las dimensiones de la columna 7 son:', documento.col_7.shape)"
      ],
      "metadata": {
        "colab": {
          "base_uri": "https://localhost:8080/"
        },
        "id": "Pqtkeq_nCUWw",
        "outputId": "71c0485e-b049-4273-94cd-20540bf91f51"
      },
      "execution_count": null,
      "outputs": [
        {
          "output_type": "stream",
          "name": "stdout",
          "text": [
            "Las dimensiones de los datos transformados son: (5005, 1)\n",
            "Las dimensiones de la columna 0 son: (5005,)\n",
            "Las dimensiones de la columna 1 son: (5005,)\n",
            "Las dimensiones de la columna 2 son: (5005,)\n",
            "Las dimensiones de la columna 6 son: (5005,)\n",
            "Las dimensiones de la columna 7 son: (5005,)\n"
          ]
        }
      ]
    },
    {
      "cell_type": "code",
      "source": [
        "#Dado que los cambios solo los realizamos en relación a las columnas 3, 4 y 5 uniremos los cambios a las demás columnas\n",
        "documentos= documento[['col_0', 'col_1', 'col_2', 'col_6', 'col_7']].copy()\n",
        "documentos['col_8'] = datos_transformados\n",
        "#Verifico que mi nuevo dataframe\n",
        "print(documentos.head())"
      ],
      "metadata": {
        "colab": {
          "base_uri": "https://localhost:8080/"
        },
        "id": "dNFDbvqdL2nG",
        "outputId": "9e04ae56-b4da-4d94-c1e8-5f4016466d3a"
      },
      "execution_count": null,
      "outputs": [
        {
          "output_type": "stream",
          "name": "stdout",
          "text": [
            "   col_0     col_1     col_2  col_6 col_7     col_8\n",
            "0      1 -0.580070  0.995478   Alto    Sí -0.931332\n",
            "1      2  0.222348  0.831630  Medio    No -1.862672\n",
            "2      3 -0.441711  0.778408   Alto    Sí -2.089730\n",
            "3      4  0.892731 -0.606429   Bajo    No  1.841154\n",
            "4      5  1.004719  0.412743   Bajo    No  0.030833\n"
          ]
        }
      ]
    },
    {
      "cell_type": "code",
      "source": [
        "#Para poder tratar los datos, convertiremos la columna 6 en números enteros donde bajo=0, medio=1 y alto=2\n",
        "\n",
        "documentos['col_6'] = documentos['col_6'].replace({'Alto': 2, 'Medio': 1, 'Bajo': 0})\n",
        "print(documentos.head())"
      ],
      "metadata": {
        "colab": {
          "base_uri": "https://localhost:8080/"
        },
        "id": "35RAQ4UZVFxB",
        "outputId": "3a1477a0-1ae6-4480-bda5-6eaa7065b765"
      },
      "execution_count": null,
      "outputs": [
        {
          "output_type": "stream",
          "name": "stdout",
          "text": [
            "   col_0     col_1     col_2  col_6 col_7     col_8\n",
            "0      1 -0.580070  0.995478      2    Sí -0.931332\n",
            "1      2  0.222348  0.831630      1    No -1.862672\n",
            "2      3 -0.441711  0.778408      2    Sí -2.089730\n",
            "3      4  0.892731 -0.606429      0    No  1.841154\n",
            "4      5  1.004719  0.412743      0    No  0.030833\n"
          ]
        }
      ]
    },
    {
      "cell_type": "markdown",
      "source": [
        "#ALGORITMOS DE CLASIFICACIÓN"
      ],
      "metadata": {
        "id": "DNgBHXSmR9qU"
      }
    },
    {
      "cell_type": "markdown",
      "source": [
        "##KNN"
      ],
      "metadata": {
        "id": "RLyYsMZLXpHo"
      }
    },
    {
      "cell_type": "code",
      "source": [
        "#Definimos las variables\n",
        "x=documentos.drop(['col_7'], axis=1)\n",
        "y=documentos['col_7'] #columna a predecir\n",
        "\n",
        "#Separamos conjuntos de entrenamiento y validación\n",
        "x_train, x_test, y_train, y_test = train_test_split(x, y, test_size = 0.20, random_state = 0)\n",
        "\n",
        "#VAMOS A VALORAR CUAL ES EL NÚMERO ÓPTIMO DE VECINOS\n",
        "accuracies = []\n",
        "for k in range(1, 101):\n",
        "    # Crear el clasificador KNN con k vecinos\n",
        "    clasificador = KNeighborsClassifier(n_neighbors=k)\n",
        "\n",
        "    # Entrenar el clasificador con los datos de entrenamiento\n",
        "    clasificador.fit(x_train, y_train)\n",
        "\n",
        "    # Obtener las predicciones para los datos de validación\n",
        "    y_pred = clasificador.predict(x_test)\n",
        "\n",
        "    # Calcular la exactitud (accuracy) de la predicción y guardarla en la lista accuracies\n",
        "    precision = accuracy_score(y_test, y_pred)\n",
        "    accuracies.append(precision)\n",
        "\n",
        "best_acc = max(accuracies)\n",
        "best_k = accuracies.index(best_acc) + 1\n",
        "print(f\"El valor de k que produce la mayor precisión es {best_k} con una precisión de {best_acc:.2f}\")\n",
        "plt.figure(figsize=(10,6))\n",
        "plt.plot(range(1,101), accuracies)\n",
        "plt.title('Exactitud en función del número de vecinos')\n",
        "plt.xlabel('Número de vecinos')\n",
        "plt.ylabel('Exactitud')\n",
        "plt.show()\n"
      ],
      "metadata": {
        "colab": {
          "base_uri": "https://localhost:8080/"
        },
        "id": "7aj2gRsrSBya",
        "outputId": "b3962d57-5b9e-47c3-dd54-bdeb6f742606"
      },
      "execution_count": null,
      "outputs": [
        {
          "output_type": "stream",
          "name": "stdout",
          "text": [
            "El valor de k que produce la mayor precisión es 7 con una precisión de 0.52\n"
          ]
        },
        {
          "output_type": "display_data",
          "data": {
            "text/plain": [
              "<Figure size 1000x600 with 1 Axes>"
            ],
            "image/png": "[encoded data removed]"
          },
          "metadata": {}
        }
      ]
    },
    {
      "cell_type": "code",
      "source": [
        "#Dado que el valor óptimo de vecinos es 7:\n",
        "\n",
        "#Estandarización de entradas\n",
        "sc = StandardScaler()\n",
        "x_train = sc.fit_transform(x_train) #ajuste y estandarización de datos de entrenamiento\n",
        "x_test = sc.transform(x_test)#aplicar la estandarización a los datos de prueba\n",
        "\n",
        "#Entrenamos el clasificador\n",
        "classifier = KNeighborsClassifier(n_neighbors = 7)\n",
        "classifier.fit(x_train, y_train)#\n",
        "\n",
        "#Predicción\n",
        "KNN_pred = classifier.predict(x_test)\n",
        "\n",
        "#Calculo de la exactitud\n",
        "KNN_ac = accuracy_score(y_test, KNN_pred)\n",
        "print(\"Exactitud:\",KNN_ac)\n",
        "\n",
        "#Matriz de confusión\n",
        "KNN_mc = confusion_matrix(y_test, KNN_pred)\n",
        "print(\"Matriz de confusión:\\n\",KNN_mc)\n",
        "\n",
        "# Calcular la métrica F1\n",
        "KNN_f1 = classification_report(y_test, KNN_pred)\n",
        "print(\"La métrica F1 es de:\\n\",KNN_f1)\n",
        "\n",
        "# Calcular la sensibilidad y precisión\n",
        "KNN_sen = KNN_mc[1, 1] / (KNN_mc[1, 0] + KNN_mc[1, 1])\n",
        "KNN_pre = KNN_mc[1, 1] / (KNN_mc[0, 1] + KNN_mc[1, 1])\n",
        "print(\"La sensibilidad es de:\\n\",KNN_sen)\n",
        "print(\"La precisión es de:\\n\",KNN_pre)"
      ],
      "metadata": {
        "colab": {
          "base_uri": "https://localhost:8080/"
        },
        "id": "QrTkhMEsozZa",
        "outputId": "09db106a-c4c2-4995-8699-adb5a5bc3182"
      },
      "execution_count": null,
      "outputs": [
        {
          "output_type": "stream",
          "name": "stdout",
          "text": [
            "Exactitud: 0.8401598401598401\n",
            "Matriz de confusión:\n",
            " [[393  86]\n",
            " [ 74 448]]\n",
            "La métrica F1 es de:\n",
            "               precision    recall  f1-score   support\n",
            "\n",
            "          No       0.84      0.82      0.83       479\n",
            "          Sí       0.84      0.86      0.85       522\n",
            "\n",
            "    accuracy                           0.84      1001\n",
            "   macro avg       0.84      0.84      0.84      1001\n",
            "weighted avg       0.84      0.84      0.84      1001\n",
            "\n",
            "La sensibilidad es de:\n",
            " 0.8582375478927203\n",
            "La precisión es de:\n",
            " 0.8389513108614233\n"
          ]
        }
      ]
    },
    {
      "cell_type": "code",
      "source": [
        "lineas = KNN_f1.strip().split('\\n')\n",
        "# Obtenemos el valor concreto de f1-score weighted avg\n",
        "KNN_f1= float(lineas[6].split()[4])\n",
        "print(\"Valor:\", KNN_f1)"
      ],
      "metadata": {
        "colab": {
          "base_uri": "https://localhost:8080/"
        },
        "id": "G_lPyoJ4_f5b",
        "outputId": "0be27df8-2c7f-41f5-9c55-9ba876d34712"
      },
      "execution_count": null,
      "outputs": [
        {
          "output_type": "stream",
          "name": "stdout",
          "text": [
            "Valor: 0.84\n"
          ]
        }
      ]
    },
    {
      "cell_type": "markdown",
      "source": [
        "##REGRESIÓN LOGÍSTICA"
      ],
      "metadata": {
        "id": "nA8f2-7gXriF"
      }
    },
    {
      "cell_type": "code",
      "source": [
        "#Creamos el modelo\n",
        "regresion_log = LogisticRegression()\n",
        "\n",
        "#Entrenamos el modelo\n",
        "regresion_log.fit(x_train, y_train)\n",
        "\n",
        "# Predicción\n",
        "regre_pred = regresion_log.predict(x_test)\n",
        "\n",
        "#Calculo de la exactitud\n",
        "regre_ac = accuracy_score(y_test, regre_pred)\n",
        "print(\"Exactitud:\",regre_ac)\n",
        "\n",
        "#Matriz de confusión\n",
        "regre_mc = confusion_matrix(y_test, regre_pred)\n",
        "print(\"Matriz de confusión:\\n\",regre_mc)\n",
        "\n",
        "# Calcular la métrica F1\n",
        "regre_f1 = classification_report(y_test, regre_pred)\n",
        "print(\"La métrica F1 es de:\\n\",regre_f1)\n",
        "# Calcular la sensibilidad y precisión\n",
        "regre_sen = regre_mc[1, 1] / (regre_mc[1, 0] + regre_mc[1, 1])\n",
        "regre_pre = regre_mc[1, 1] / (regre_mc[0, 1] + regre_mc[1, 1])\n",
        "print(\"La sensibilidad es de:\\n\",regre_sen)\n",
        "print(\"La precisión es de:\\n\",regre_pre)"
      ],
      "metadata": {
        "colab": {
          "base_uri": "https://localhost:8080/"
        },
        "id": "cKYj2aN3XvZd",
        "outputId": "785d8369-41dd-4e11-c7d3-c56a5057ca71"
      },
      "execution_count": null,
      "outputs": [
        {
          "output_type": "stream",
          "name": "stdout",
          "text": [
            "Exactitud: 0.46553446553446554\n",
            "Matriz de confusión:\n",
            " [[292 187]\n",
            " [348 174]]\n",
            "La métrica F1 es de:\n",
            "               precision    recall  f1-score   support\n",
            "\n",
            "          No       0.46      0.61      0.52       479\n",
            "          Sí       0.48      0.33      0.39       522\n",
            "\n",
            "    accuracy                           0.47      1001\n",
            "   macro avg       0.47      0.47      0.46      1001\n",
            "weighted avg       0.47      0.47      0.46      1001\n",
            "\n",
            "La sensibilidad es de:\n",
            " 0.3333333333333333\n",
            "La precisión es de:\n",
            " 0.481994459833795\n"
          ]
        }
      ]
    },
    {
      "cell_type": "code",
      "source": [
        "lineas = regre_f1.strip().split('\\n')\n",
        "# Obtenemos el valor concreto de f1-score weighted avg\n",
        "regre_f1= float(lineas[6].split()[4])\n",
        "print(\"Valor:\", regre_f1)"
      ],
      "metadata": {
        "colab": {
          "base_uri": "https://localhost:8080/"
        },
        "id": "fO5eDdmY_Zl_",
        "outputId": "fc354ab6-130b-43fc-d28c-8ab2b1ffdf71"
      },
      "execution_count": null,
      "outputs": [
        {
          "output_type": "stream",
          "name": "stdout",
          "text": [
            "Valor: 0.46\n"
          ]
        }
      ]
    },
    {
      "cell_type": "markdown",
      "source": [
        "##ÁRBOL DE DECISIÓN"
      ],
      "metadata": {
        "id": "rRsiOXtQczQf"
      }
    },
    {
      "cell_type": "code",
      "source": [
        "# Creaamos el modelo\n",
        "decision_tree = DecisionTreeClassifier()\n",
        "\n",
        "# Entrenamos el modelo\n",
        "decision_tree.fit(x_train, y_train)\n",
        "\n",
        "# Predicción\n",
        "arbol_pred = decision_tree.predict(x_test)\n",
        "\n",
        "#Calculo de la exactitud\n",
        "arbol_ac = accuracy_score(y_test, arbol_pred)\n",
        "print(\"Exactitud:\",arbol_ac)\n",
        "\n",
        "#Matriz de confusión\n",
        "arbol_mc = confusion_matrix(y_test, arbol_pred)\n",
        "print(\"Matriz de confusión:\\n\",arbol_mc)\n",
        "\n",
        "# Calcular la métrica F1\n",
        "arbol_f1 = classification_report(y_test, arbol_pred)\n",
        "print(\"La métrica F1 es de:\\n\",arbol_f1)\n",
        "# Calcular la sensibilidad y precisión\n",
        "arbol_sen = regre_mc[1, 1] / (arbol_mc[1, 0] + arbol_mc[1, 1])\n",
        "arbol_pre = regre_mc[1, 1] / (arbol_mc[0, 1] + arbol_mc[1, 1])\n",
        "print(\"La sensibilidad es de:\\n\",regre_sen)\n",
        "print(\"La precisión es de:\\n\",arbol_pre)"
      ],
      "metadata": {
        "colab": {
          "base_uri": "https://localhost:8080/"
        },
        "id": "tDwGmlFic1M_",
        "outputId": "4f1e33fb-aed6-4afd-b483-9890be514093"
      },
      "execution_count": null,
      "outputs": [
        {
          "output_type": "stream",
          "name": "stdout",
          "text": [
            "Exactitud: 0.7962037962037962\n",
            "Matriz de confusión:\n",
            " [[392  87]\n",
            " [117 405]]\n",
            "La métrica F1 es de:\n",
            "               precision    recall  f1-score   support\n",
            "\n",
            "          No       0.77      0.82      0.79       479\n",
            "          Sí       0.82      0.78      0.80       522\n",
            "\n",
            "    accuracy                           0.80      1001\n",
            "   macro avg       0.80      0.80      0.80      1001\n",
            "weighted avg       0.80      0.80      0.80      1001\n",
            "\n",
            "La sensibilidad es de:\n",
            " 0.3333333333333333\n",
            "La precisión es de:\n",
            " 0.35365853658536583\n"
          ]
        }
      ]
    },
    {
      "cell_type": "code",
      "source": [
        "lineas = arbol_f1.strip().split('\\n')\n",
        "# Obtenemos el valor concreto de f1-score weighted avg\n",
        "arbol_f1= float(lineas[6].split()[4])\n",
        "print(\"Valor:\", arbol_f1)"
      ],
      "metadata": {
        "colab": {
          "base_uri": "https://localhost:8080/"
        },
        "id": "st9la5BG_SWM",
        "outputId": "cb7498b2-3962-4880-9190-1643669bdac8"
      },
      "execution_count": null,
      "outputs": [
        {
          "output_type": "stream",
          "name": "stdout",
          "text": [
            "Valor: 0.8\n"
          ]
        }
      ]
    },
    {
      "cell_type": "markdown",
      "source": [
        "##SVM"
      ],
      "metadata": {
        "id": "Iy_r8oSyn5MO"
      }
    },
    {
      "cell_type": "markdown",
      "source": [
        "###Escogemos el mejor valor de C"
      ],
      "metadata": {
        "id": "RPUqZyUUHGkB"
      }
    },
    {
      "cell_type": "code",
      "source": [
        "# Definir el rango de valores de C\n",
        "valores_C = range(1, 130) #la primera vez lo hice entre 1 y 1001 y me dio 125 por lo que después lo deje entre 1-130 para que no tardara tanto en cargar\n",
        "\n",
        "# Variables para almacenar el mejor valor de C y la mejor precisión\n",
        "mejor_C = None\n",
        "mejor_precision = 0\n",
        "\n",
        "# Hacemos un bucle para ir recorriendo todos los números del 1-130\n",
        "for C in valores_C:\n",
        "  svm_model = SVC(C=C)\n",
        "  svm_model.fit(x_train, y_train)\n",
        "  y_pred = svm_model.predict(x_test)\n",
        "  precision = accuracy_score(y_test, y_pred)\n",
        "\n",
        "# Verificar si es el mejor valor de C encontrado hasta ahora\n",
        "  if precision > mejor_precision:\n",
        "   mejor_C = C\n",
        "   mejor_precision = precision\n",
        "\n",
        "print(\"El mejor valor de C encontrado:\", mejor_C)\n",
        "print(\"Precisión del mejor modelo:\", mejor_precision)"
      ],
      "metadata": {
        "id": "KH_e-sWBFond",
        "colab": {
          "base_uri": "https://localhost:8080/"
        },
        "outputId": "9a1f3f10-a097-4663-c967-6ac15589bc4d"
      },
      "execution_count": null,
      "outputs": [
        {
          "output_type": "stream",
          "name": "stdout",
          "text": [
            "El mejor valor de C encontrado: 125\n",
            "Precisión del mejor modelo: 0.8731268731268731\n"
          ]
        }
      ]
    },
    {
      "cell_type": "code",
      "source": [
        "#Escalamos las entradas de entrenamiento\n",
        "x_train_scaled = scale(x_train)\n",
        "x_test_scaled = scale(x_test)\n",
        "\n",
        "# Creamos el modelo SVM\n",
        "svm_model = SVC(C=125)\n",
        "\n",
        "# Entrenamos el modelo\n",
        "svm_model.fit(x_train_scaled, y_train)\n",
        "\n",
        "# Predicción\n",
        "SVM_pred = svm_model.predict(x_test)\n",
        "\n",
        "#Calculo de la exactitud\n",
        "SVM_ac = accuracy_score(y_test, SVM_pred)\n",
        "print(\"Exactitud:\",SVM_ac)\n",
        "\n",
        "#Matriz de confusión\n",
        "SVM_mc = confusion_matrix(y_test, SVM_pred)\n",
        "print(\"Matriz de confusión:\\n\",SVM_mc)\n",
        "\n",
        "# Calcular la métrica F1\n",
        "SVM_f1 = classification_report(y_test, SVM_pred)\n",
        "print(\"La métrica F1 es de:\\n\",SVM_f1)\n",
        "# Calcular la sensibilidad y precisión\n",
        "SVM_sen = SVM_mc[1, 1] / (SVM_mc[1, 0] + SVM_mc[1, 1])\n",
        "SVM_pre = SVM_mc[1, 1] / (SVM_mc[0, 1] + SVM_mc[1, 1])\n",
        "print(\"La sensibilidad es de:\\n\",SVM_sen)\n",
        "print(\"La precisión es de:\\n\",SVM_pre)"
      ],
      "metadata": {
        "colab": {
          "base_uri": "https://localhost:8080/"
        },
        "id": "O3iWMFy7n6lx",
        "outputId": "21dbbf34-dc80-4836-b84c-34d3e502ddd0"
      },
      "execution_count": null,
      "outputs": [
        {
          "output_type": "stream",
          "name": "stdout",
          "text": [
            "Exactitud: 0.8731268731268731\n",
            "Matriz de confusión:\n",
            " [[412  67]\n",
            " [ 60 462]]\n",
            "La métrica F1 es de:\n",
            "               precision    recall  f1-score   support\n",
            "\n",
            "          No       0.87      0.86      0.87       479\n",
            "          Sí       0.87      0.89      0.88       522\n",
            "\n",
            "    accuracy                           0.87      1001\n",
            "   macro avg       0.87      0.87      0.87      1001\n",
            "weighted avg       0.87      0.87      0.87      1001\n",
            "\n",
            "La sensibilidad es de:\n",
            " 0.8850574712643678\n",
            "La precisión es de:\n",
            " 0.8733459357277883\n"
          ]
        }
      ]
    },
    {
      "cell_type": "code",
      "source": [
        "lineas = SVM_f1.strip().split('\\n')\n",
        "# Obtenemos el valor concreto de f1-score weighted avg\n",
        "SVM_f1= float(lineas[6].split()[4])\n",
        "print(\"Valor:\", SVM_f1)"
      ],
      "metadata": {
        "colab": {
          "base_uri": "https://localhost:8080/"
        },
        "id": "eobvUexC_KpL",
        "outputId": "c66bc9d6-8dea-41eb-a97a-0e7c36588763"
      },
      "execution_count": null,
      "outputs": [
        {
          "output_type": "stream",
          "name": "stdout",
          "text": [
            "Valor: 0.87\n"
          ]
        }
      ]
    },
    {
      "cell_type": "markdown",
      "source": [
        "##Random Forest"
      ],
      "metadata": {
        "id": "KX0NHeBgoXc4"
      }
    },
    {
      "cell_type": "code",
      "source": [
        "# Crear el modelo de Random Forest\n",
        "random_forest = RandomForestClassifier()\n",
        "\n",
        "# Entrenar el modelo con los datos de entrenamiento\n",
        "random_forest.fit(x_train, y_train)\n",
        "\n",
        "# Realizar predicciones con el modelo entrenado\n",
        "forest_pred= random_forest.predict(x_test)\n",
        "\n",
        "\n",
        "#Calculo de la exactitud\n",
        "forest_ac = accuracy_score(y_test, forest_pred)\n",
        "print(\"Exactitud:\",forest_ac)\n",
        "\n",
        "#Matriz de confusión\n",
        "forest_mc = confusion_matrix(y_test, forest_pred)\n",
        "print(\"Matriz de confusión:\\n\",forest_mc)\n",
        "\n",
        "# Calcular la métrica F1\n",
        "forest_f1 = classification_report(y_test, forest_pred)\n",
        "print(\"La métrica F1 es de:\\n\",forest_f1)\n",
        "# Calcular la sensibilidad y precisión\n",
        "forest_sen = forest_mc[1, 1] / (forest_mc[1, 0] + forest_mc[1, 1])\n",
        "forest_pre = forest_mc[1, 1] / (forest_mc[0, 1] + forest_mc[1, 1])\n",
        "print(\"La sensibilidad es de:\\n\",forest_sen)\n",
        "print(\"La precisión es de:\\n\",forest_pre)"
      ],
      "metadata": {
        "colab": {
          "base_uri": "https://localhost:8080/"
        },
        "id": "sH1qTvxkoaRA",
        "outputId": "f1d591aa-9bb0-4b60-c992-3db087c54fb6"
      },
      "execution_count": null,
      "outputs": [
        {
          "output_type": "stream",
          "name": "stdout",
          "text": [
            "Exactitud: 0.8441558441558441\n",
            "Matriz de confusión:\n",
            " [[411  68]\n",
            " [ 88 434]]\n",
            "La métrica F1 es de:\n",
            "               precision    recall  f1-score   support\n",
            "\n",
            "          No       0.82      0.86      0.84       479\n",
            "          Sí       0.86      0.83      0.85       522\n",
            "\n",
            "    accuracy                           0.84      1001\n",
            "   macro avg       0.84      0.84      0.84      1001\n",
            "weighted avg       0.84      0.84      0.84      1001\n",
            "\n",
            "La sensibilidad es de:\n",
            " 0.8314176245210728\n",
            "La precisión es de:\n",
            " 0.8645418326693227\n"
          ]
        }
      ]
    },
    {
      "cell_type": "code",
      "source": [
        "lineas = forest_f1.strip().split('\\n')\n",
        "# Obtenemos el valor concreto de f1-score weighted avg\n",
        "forest_f1= float(lineas[6].split()[4])\n",
        "print(\"Valor:\", forest_f1)"
      ],
      "metadata": {
        "colab": {
          "base_uri": "https://localhost:8080/"
        },
        "id": "4l6nKjam96Gp",
        "outputId": "9ba24401-3d45-48ae-fc28-270d7875cbac"
      },
      "execution_count": null,
      "outputs": [
        {
          "output_type": "stream",
          "name": "stdout",
          "text": [
            "Valor: 0.84\n"
          ]
        }
      ]
    },
    {
      "cell_type": "markdown",
      "source": [
        "#Tabla comparativa"
      ],
      "metadata": {
        "id": "DI8lvtvxrogj"
      }
    },
    {
      "cell_type": "code",
      "source": [
        "Algoritmo = np.array(['KNN','Regresión logística','Árboles de decisión', 'SVM', 'Random forest'])\n",
        "Exactitud= np.array([KNN_ac,regre_ac,arbol_ac,SVM_ac,forest_ac])\n",
        "Verdaderos_positivos= np.array([KNN_mc[0,0],regre_mc[0,0],arbol_mc[0,0],SVM_mc[0,0],forest_mc[0,0]])\n",
        "Verdaderos_negativos= np.array([KNN_mc[1,1],regre_mc[1,1],arbol_mc[1,1],SVM_mc[1,1],forest_mc[1,1]])\n",
        "Falsos_positivos= np.array([KNN_mc[1,0],regre_mc[1,0],arbol_mc[1,0],SVM_mc[1,0],forest_mc [1,0]])\n",
        "Falsos_negativos= np.array([KNN_mc[0,1],regre_mc[0,1],arbol_mc[0,1],SVM_mc[0,1],forest_mc[0,1]])\n",
        "F1_score=np.array([KNN_f1,regre_f1,arbol_f1,SVM_f1,forest_f1])\n",
        "Sensibilidad= np.array([KNN_sen,regre_sen,arbol_sen,SVM_sen,forest_sen])\n",
        "Precisión= np.array([KNN_pre,regre_pre,arbol_pre,SVM_pre,forest_pre])\n",
        "\n",
        "data = {\n",
        "    'Algoritmo': Algoritmo,\n",
        "    'Exactitud': Exactitud,\n",
        "    'Verdaderos positivos': Verdaderos_positivos,\n",
        "    'Verdaderos negativos': Verdaderos_negativos,\n",
        "    'Falsos positivos': Falsos_positivos,\n",
        "    'Falsos negativos': Falsos_negativos,\n",
        "    'Métrica F1': F1_score,\n",
        "    'Sensibilidad': Sensibilidad,\n",
        "    'Precisión': Precisión\n",
        "}\n",
        "# Crear la tabla utilizando el diccionario de datos\n",
        "tabla = pd.DataFrame(data)\n",
        "\n",
        "# Imprimir la tabla resultante\n",
        "print(tabla)\n"
      ],
      "metadata": {
        "colab": {
          "base_uri": "https://localhost:8080/"
        },
        "id": "CU94i0E9rqto",
        "outputId": "9557c5c7-554f-4fc5-cc9c-e26d02a6cea2"
      },
      "execution_count": null,
      "outputs": [
        {
          "output_type": "stream",
          "name": "stdout",
          "text": [
            "             Algoritmo  Exactitud  Verdaderos positivos  Verdaderos negativos  \\\n",
            "0                  KNN   0.840160                   393                   448   \n",
            "1  Regresión logística   0.465534                   292                   174   \n",
            "2  Árboles de decisión   0.796204                   392                   405   \n",
            "3                  SVM   0.873127                   412                   462   \n",
            "4        Random forest   0.844156                   411                   434   \n",
            "\n",
            "   Falsos positivos  Falsos negativos  Métrica F1  Sensibilidad  Precisión  \n",
            "0                74                86        0.84      0.858238   0.838951  \n",
            "1               348               187        0.46      0.333333   0.481994  \n",
            "2               117                87        0.80      0.333333   0.353659  \n",
            "3                60                67        0.87      0.885057   0.873346  \n",
            "4                88                68        0.84      0.831418   0.864542  \n"
          ]
        }
      ]
    },
    {
      "cell_type": "code",
      "source": [
        "#En definitiva, podemos decir que el algoritmo SVM es el que tiene la mayor exactitud y métrica F1, que nos da el equilibrio entre sensibilidad y precisión."
      ],
      "metadata": {
        "id": "dlIpD3MsERq1"
      },
      "execution_count": null,
      "outputs": []
    },
    {
      "cell_type": "markdown",
      "source": [
        "#EVALUACIÓN DEL TRABAJO"
      ],
      "metadata": {
        "id": "nmEVi3u6-XYR"
      }
    },
    {
      "cell_type": "code",
      "source": [
        "#Hice la prueba de que funcionaba con la tabla anterior y deje comentada la parte del código donde introducir la ruta del nuevo documento para que no me diera error\n",
        "\n",
        "#df= pd.read_csv('') #insertar archivo para evaluación\n",
        "df=documento #comentar esta linea cuando se utilice la anterior\n",
        "\n",
        "#REDUCCIÓN DE DIMENSIONALIDAD\n",
        "columna_3 = df['col_3']\n",
        "columna_4 = df['col_4']\n",
        "columna_5 = df['col_5']\n",
        "columnas2 = np.column_stack((columna_3, columna_4, columna_5))\n",
        "dato_transformado = pca.transform(columnas2)\n",
        "df= df[['col_0', 'col_1', 'col_2', 'col_6', 'col_7']].copy()\n",
        "df['col_8'] = dato_transformado\n",
        "\n",
        "\n",
        "df['col_6']= df['col_6'].replace('High', 'Alto')\n",
        "df['col_6']= df['col_6'].replace('Medium', 'Medio')\n",
        "df['col_6']= df['col_6'].replace('Low', 'Bajo')\n",
        "df['col_6']= df['col_6'].replace({'Alto': 2, 'Medio': 1, 'Bajo': 0})\n",
        "\n",
        "#Definimos las variables (MODIFICAR COLUMNA SI ES NECESARIO)\n",
        "z=df.drop(['col_7'], axis=1)\n",
        "w=df['col_7']\n",
        "\n",
        "#Obtenemos la predicción\n",
        "z_scaled=scale(z)\n",
        "y_pred= svm_model.predict(z_scaled)\n",
        "print(y_pred)\n",
        "\n",
        "#Calculo de la exactitud\n",
        "SVM_ac = accuracy_score(w, y_pred)\n",
        "print(\"Exactitud:\",SVM_ac)\n",
        "\n",
        "#Matriz de confusión\n",
        "SVM_mc = confusion_matrix(w, y_pred)\n",
        "print(\"Matriz de confusión:\\n\",SVM_mc)\n",
        "\n",
        "#Calcular la métrica F1\n",
        "SVM_f1 = classification_report(w, y_pred)\n",
        "print(\"La métrica F1 es de:\\n\",SVM_f1)\n",
        "\n",
        "#Calcular la sensibilidad y precisión\n",
        "SVM_sen = SVM_mc[1, 1] / (SVM_mc[1, 0] + SVM_mc[1, 1])\n",
        "SVM_pre = SVM_mc[1, 1] / (SVM_mc[0, 1] + SVM_mc[1, 1])\n",
        "print(\"La sensibilidad es de:\\n\",SVM_sen)\n",
        "print(\"La precisión es de:\\n\",SVM_pre)"
      ],
      "metadata": {
        "colab": {
          "base_uri": "https://localhost:8080/"
        },
        "id": "EsvH1P2alv9s",
        "outputId": "e97511a6-037b-45d3-b8e0-1b94a45f527f"
      },
      "execution_count": null,
      "outputs": [
        {
          "output_type": "stream",
          "name": "stdout",
          "text": [
            "['Sí' 'No' 'Sí' ... 'No' 'No' 'No']\n",
            "Exactitud: 0.8941058941058941\n",
            "Matriz de confusión:\n",
            " [[2187  323]\n",
            " [ 207 2288]]\n",
            "La métrica F1 es de:\n",
            "               precision    recall  f1-score   support\n",
            "\n",
            "          No       0.91      0.87      0.89      2510\n",
            "          Sí       0.88      0.92      0.90      2495\n",
            "\n",
            "    accuracy                           0.89      5005\n",
            "   macro avg       0.89      0.89      0.89      5005\n",
            "weighted avg       0.89      0.89      0.89      5005\n",
            "\n",
            "La sensibilidad es de:\n",
            " 0.9170340681362725\n",
            "La precisión es de:\n",
            " 0.8762926081960934\n"
          ]
        }
      ]
    }
  ]
}